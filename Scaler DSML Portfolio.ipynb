{
 "cells": [
  {
   "cell_type": "markdown",
   "id": "b315320e",
   "metadata": {},
   "source": [
    " # Analysis Summary and Presentation of IMdB Dataset\n",
    " \n",
    "> # Data Loading and Initial Exploration:\n",
    "\n",
    ">>Various datasets from the IMDb Movies Schema were loaded using SQLite queries and stored in pandas DataFrames.\n",
    "The structure and information of the \"movies\" DataFrame were examined, including numerical and categorical columns.\n",
    "Summary statistics, such as mean and standard deviation, were calculated for numerical columns.\n",
    "Null values were checked in the dataset, and the number of unique values in each column was determined.\n",
    "\n",
    "> # Data Cleaning and Transformation:\n",
    "\n",
    ">>The \"year\" column was cleaned by extracting the last element from the string values to remove unnecessary text.\n",
    "Duplicated rows in the \"movies\" DataFrame were identified and removed if needed.\n",
    "Skewness of the \"num_votes\" column was calculated, and log and square root transformations were applied to reduce skewness.\n",
    "Transformed columns, such as \"num_votes_log2,\" \"num_votes_log10,\" and \"num_votes_sqrt,\" were created.\n",
    "\n",
    "> # Movies Analysis:\n",
    "The count of movies released per year was plotted to visualize the distribution and identify the years with maximum releases.\n",
    "A trend line chart was generated to analyze the trend of movies released over the years.\n",
    "Average ratings per year were plotted to observe any trends or patterns.\n",
    "The relationship between average ratings and the number of votes was explored through line plots.\n",
    "The distribution of ratings was visualized using histograms and counts of movies within specific rating ranges.\n",
    "Top movies per year and genre were printed to identify the most popular movies in recent years.\n",
    "Box plots were used to visualize the distribution of ratings for recent years.\n",
    "\n",
    "> # Genre Analysis:\n",
    "\n",
    ">>The genre information was extracted from the \"genre\" and \"m_genre\" tables and merged with the \"movies\" DataFrame.\n",
    "The count and distribution of movies for each genre were plotted using bar charts.\n",
    "Average ratings for each genre were calculated and visualized through bar charts.\n",
    "Top movies per genre were printed to identify the most highly rated movies.\n",
    "\n",
    "> # Language Analysis:\n",
    "\n",
    ">>The language information was extracted from the \"m_language\" and \"lang\" tables and merged with the \"movies\" DataFrame.\n",
    "The distribution of movies by language was visualized using a bar chart.\n",
    "Average ratings for each language were calculated and plotted using a bar chart.\n",
    "The language diversity over the years was examined through a line plot.\n",
    "\n",
    "> # Director Analysis:\n",
    "\n",
    ">>The director information was extracted from the \"m_director\" and \"person\" tables and merged with the \"movies\" DataFrame.\n",
    "The count of movies directed by each director was plotted using a bar chart.\n",
    "The favorite cast members for each director were identified and visualized through bar charts.\n",
    "The gender distribution of directors was analyzed using a pie chart.\n",
    "\n",
    "> # Cast Analysis:\n",
    "\n",
    ">>The cast information was extracted from the \"m_cast\" and \"person\" tables and merged with the \"movies\" DataFrame.\n",
    "The count of movies in which each cast member has appeared was plotted using a bar chart.\n",
    "The favorite cast members for each director were identified and visualized through bar charts.\n",
    "The gender distribution of cast members was analyzed using a pie chart.\n",
    "\n",
    "> # Producer Analysis:\n",
    "\n",
    ">>The producer information was extracted from the \"m_producer\" and \"person\" tables and merged with the \"movies\" DataFrame.\n",
    "The count of movies produced by each producer was plotted using a bar chart.\n",
    "The favorite producers for each director were identified and visualized through bar charts.\n",
    "\n",
    "> # Correlation Analysis:\n",
    "\n",
    ">> The correlation matrix was calculated to determine the relationships between numerical variables in the \"movies\" DataFrame.\n",
    "The correlation matrix was visualized using a heatmap to identify any significant correlations.\n",
    "\n",
    "> # Additional Analysis:\n",
    "\n",
    ">>Other analyses performed include analyzing the distribution of genres over the years, exploring the favorite cast members for each director, and examining the favorite producers for each director.\n",
    "The provided code covers a wide range of analyses, including the distribution of movies over the years, average ratings, genre analysis, language analysis, director analysis, cast analysis, producer analysis, and correlation analysis. The plots and visualizations provide insights into the IMDb Movies Schema and can be used to draw meaningful conclusions for a blog post or further analysis.\n",
    "\n"
   ]
  },
  {
   "cell_type": "code",
   "execution_count": null,
   "id": "41c94091",
   "metadata": {},
   "outputs": [],
   "source": []
  },
  {
   "cell_type": "markdown",
   "id": "ce6474b0",
   "metadata": {},
   "source": [
    "# Let us Import All Libraries"
   ]
  },
  {
   "cell_type": "code",
   "execution_count": null,
   "id": "fb120fb4",
   "metadata": {},
   "outputs": [],
   "source": [
    "import numpy as np\n",
    "import pandas as pd\n",
    "import matplotlib.pyplot as plt\n",
    "import seaborn as sns\n",
    "import warnings\n",
    "import sqlite3\n",
    "warnings.filterwarnings(\"ignore\")\n",
    "%matplotlib inline"
   ]
  },
  {
   "cell_type": "code",
   "execution_count": null,
   "id": "f6bce39d",
   "metadata": {},
   "outputs": [],
   "source": [
    "conn = sqlite3.connect(\"Db-IMDB-Assignment.db\")"
   ]
  },
  {
   "cell_type": "markdown",
   "id": "36a6ce34",
   "metadata": {},
   "source": [
    "# Let us Load in all Datasets"
   ]
  },
  {
   "cell_type": "markdown",
   "id": "481fb237",
   "metadata": {},
   "source": [
    "# Data Tables"
   ]
  },
  {
   "cell_type": "code",
   "execution_count": null,
   "id": "f222721e",
   "metadata": {},
   "outputs": [],
   "source": [
    "query = \"SELECT * FROM MOVIE\"\n",
    "movies = pd.read_sql(query , conn)\n",
    "movies.head()\n",
    "movies = movies.drop(\"index\" , axis = 1)"
   ]
  },
  {
   "cell_type": "code",
   "execution_count": null,
   "id": "e68bf3e2",
   "metadata": {},
   "outputs": [],
   "source": [
    "query = \"SELECT * FROM PERSON\"\n",
    "person = pd.read_sql(query , conn)\n",
    "person.head()"
   ]
  },
  {
   "cell_type": "code",
   "execution_count": null,
   "id": "a24e69fe",
   "metadata": {},
   "outputs": [],
   "source": [
    "query = \"SELECT * FROM GENRE\"\n",
    "genre = pd.read_sql(query , conn)\n",
    "genre.head()"
   ]
  },
  {
   "cell_type": "code",
   "execution_count": null,
   "id": "9a9f98cc",
   "metadata": {},
   "outputs": [],
   "source": [
    "query = \"SELECT * FROM LANGUAGE\"\n",
    "lang = pd.read_sql(query , conn)\n",
    "lang.head()"
   ]
  },
  {
   "cell_type": "code",
   "execution_count": null,
   "id": "f0ced5e2",
   "metadata": {},
   "outputs": [],
   "source": [
    "query = \"SELECT * FROM COUNTRY\"\n",
    "country = pd.read_sql(query , conn)\n",
    "country.head()"
   ]
  },
  {
   "cell_type": "code",
   "execution_count": null,
   "id": "76a3fb6d",
   "metadata": {},
   "outputs": [],
   "source": [
    "query = \"SELECT * FROM LOCATION\"\n",
    "location = pd.read_sql(query , conn)\n",
    "location.head()"
   ]
  },
  {
   "cell_type": "code",
   "execution_count": null,
   "id": "5523982a",
   "metadata": {},
   "outputs": [],
   "source": [
    "print(\"*\"*50)\n"
   ]
  },
  {
   "cell_type": "markdown",
   "id": "c805c008",
   "metadata": {},
   "source": [
    "# Mapping Tables"
   ]
  },
  {
   "cell_type": "code",
   "execution_count": null,
   "id": "33f6841a",
   "metadata": {},
   "outputs": [],
   "source": [
    "query = \"SELECT * FROM M_PRODUCER\"\n",
    "m_producer = pd.read_sql(query , conn)\n",
    "m_producer.head()"
   ]
  },
  {
   "cell_type": "code",
   "execution_count": null,
   "id": "15bffaa7",
   "metadata": {},
   "outputs": [],
   "source": [
    "query = \"SELECT * FROM M_DIRECTOR\"\n",
    "m_director = pd.read_sql(query , conn)\n",
    "m_director.head()"
   ]
  },
  {
   "cell_type": "code",
   "execution_count": null,
   "id": "8611dff7",
   "metadata": {},
   "outputs": [],
   "source": [
    "query = \"SELECT * FROM M_CAST\"\n",
    "m_cast = pd.read_sql(query , conn)\n",
    "m_cast.head()"
   ]
  },
  {
   "cell_type": "code",
   "execution_count": null,
   "id": "04f4e2b7",
   "metadata": {},
   "outputs": [],
   "source": [
    "query = \"SELECT * FROM M_GENRE\"\n",
    "m_genre = pd.read_sql(query , conn)\n",
    "m_genre.head()"
   ]
  },
  {
   "cell_type": "code",
   "execution_count": null,
   "id": "df29a57a",
   "metadata": {},
   "outputs": [],
   "source": [
    "query = \"SELECT * FROM M_LANGUAGE\"\n",
    "m_language = pd.read_sql(query , conn)\n",
    "m_language.head()"
   ]
  },
  {
   "cell_type": "code",
   "execution_count": null,
   "id": "f236b486",
   "metadata": {},
   "outputs": [],
   "source": [
    "query = \"SELECT * FROM M_COUNTRY\"\n",
    "m_country = pd.read_sql(query , conn)\n",
    "m_country.head()"
   ]
  },
  {
   "cell_type": "code",
   "execution_count": null,
   "id": "0c78852a",
   "metadata": {},
   "outputs": [],
   "source": [
    "query = \"SELECT * FROM M_LOCATION\"\n",
    "m_location = pd.read_sql(query , conn)\n",
    "m_location.head()"
   ]
  },
  {
   "cell_type": "markdown",
   "id": "3a75c70a",
   "metadata": {},
   "source": [
    "# Movies Analysis"
   ]
  },
  {
   "cell_type": "code",
   "execution_count": null,
   "id": "3072b1c1",
   "metadata": {},
   "outputs": [],
   "source": [
    "movies.info()\n",
    "# 3 Numerical and 3 Categorical Columns\n",
    "#Index is of no use and can be dropped"
   ]
  },
  {
   "cell_type": "code",
   "execution_count": null,
   "id": "5e31ce6a",
   "metadata": {},
   "outputs": [],
   "source": [
    "pd.set_option('display.float_format', lambda x: '%.3f' % x)\n",
    "#Using this coder snippet to display numbers without scientific notation\n",
    "movies.describe()\n",
    "\n",
    "\n",
    "#Mean Rating of 6 with a standard deviation of 1.4\n",
    "#Mean Votes of 4547 with a really high standard deviation - data is highly skewed"
   ]
  },
  {
   "cell_type": "code",
   "execution_count": null,
   "id": "8fecf026",
   "metadata": {},
   "outputs": [],
   "source": [
    "movies.isnull().sum()\n",
    "#No Null values in the dataset"
   ]
  },
  {
   "cell_type": "code",
   "execution_count": null,
   "id": "d35f3609",
   "metadata": {},
   "outputs": [],
   "source": [
    "#Let us check the number of unique values in the dataset\n",
    "movies.nunique()\n"
   ]
  },
  {
   "cell_type": "code",
   "execution_count": null,
   "id": "7c16fb58",
   "metadata": {},
   "outputs": [],
   "source": [
    "movies['year'].unique()\n",
    "#This column has some really uncleaned values which will affect the analysis\n",
    "#Let us clean this data column"
   ]
  },
  {
   "cell_type": "code",
   "execution_count": null,
   "id": "20e84ef0",
   "metadata": {},
   "outputs": [],
   "source": [
    "# The 'year' column is cleaned by extracting the last element from the string values\n",
    "def clean_year(year):\n",
    "    ans = year.split(\" \")\n",
    "    return int(ans[-1])\n",
    "\n",
    "#applying the function here\n",
    "movies['year'] = movies['year'].apply(lambda x : clean_year(x))"
   ]
  },
  {
   "cell_type": "code",
   "execution_count": null,
   "id": "3b1a09a8",
   "metadata": {},
   "outputs": [],
   "source": [
    "#Duplicated rows in the movies DataFrame are identified - there arte no duplicates \n",
    "movies[movies.duplicated()]"
   ]
  },
  {
   "cell_type": "code",
   "execution_count": null,
   "id": "377bff95",
   "metadata": {},
   "outputs": [],
   "source": [
    "#The skewness of the 'num_votes' column is calculated, \n",
    "#Due to high skewness - log and square root transformations will be applied to visualize the data distribution.\n",
    "movies['num_votes'].skew()"
   ]
  },
  {
   "cell_type": "code",
   "execution_count": null,
   "id": "b7ef7373",
   "metadata": {},
   "outputs": [],
   "source": [
    "print(np.log(movies['num_votes']).skew())\n",
    "np.log(movies['num_votes'])\n",
    "#Reduced Skewness"
   ]
  },
  {
   "cell_type": "code",
   "execution_count": null,
   "id": "e26d615f",
   "metadata": {},
   "outputs": [],
   "source": [
    "print(np.power(movies['num_votes'],0.5).skew())\n",
    "np.power(movies['num_votes'],0.5)\n",
    "#High in case of Sqrt"
   ]
  },
  {
   "cell_type": "code",
   "execution_count": null,
   "id": "06381515",
   "metadata": {},
   "outputs": [],
   "source": [
    "sns.kdeplot(np.log2(movies['num_votes']))\n"
   ]
  },
  {
   "cell_type": "code",
   "execution_count": null,
   "id": "da12dbc7",
   "metadata": {},
   "outputs": [],
   "source": [
    "sns.kdeplot(np.log10(movies['num_votes']))\n"
   ]
  },
  {
   "cell_type": "code",
   "execution_count": null,
   "id": "a5c026fa",
   "metadata": {},
   "outputs": [],
   "source": [
    "sns.kdeplot(np.power(movies['num_votes'],0.2))\n",
    "#Let us choose log transform of base 2 on our data on our number of votes "
   ]
  },
  {
   "cell_type": "code",
   "execution_count": null,
   "id": "9445e88d",
   "metadata": {},
   "outputs": [],
   "source": [
    "#Applying Transformations and generating new column values\n",
    "\n",
    "\n",
    "movies['num_votes_log2'] = np.log2(movies['num_votes'])\n",
    "movies['num_votes_log10'] = np.log10(movies['num_votes'])\n",
    "movies['num_votes_sqrt'] = np.sqrt(movies['num_votes'])"
   ]
  },
  {
   "cell_type": "code",
   "execution_count": null,
   "id": "efacff6c",
   "metadata": {},
   "outputs": [],
   "source": [
    "#Let Us Plot Count of Movies Released per year and check the Counts in Descending Order\n",
    "sns.set_style(\"darkgrid\")\n",
    "plt.figure(figsize = (15,10))\n",
    "movies['year'].value_counts(sort = True)[:50].plot(kind = \"bar\")\n",
    "plt.xlabel(\"Year\" , fontsize = 20)\n",
    "plt.ylabel(\"Movies Released\" , fontsize = 20)\n",
    "plt.title(\"Maximum Releases Per Year\" , fontsize = 30)\n",
    "plt.xticks(fontsize = 14)\n",
    "plt.show()"
   ]
  },
  {
   "cell_type": "code",
   "execution_count": null,
   "id": "32a66fee",
   "metadata": {},
   "outputs": [],
   "source": [
    "#Will use this to generate Trend Line Chart\n",
    "movies['year'].value_counts().sort_index()"
   ]
  },
  {
   "cell_type": "code",
   "execution_count": null,
   "id": "34c5f5c8",
   "metadata": {},
   "outputs": [],
   "source": [
    "\n",
    "# Let us analyze the trend line chart for movies released with time\n",
    "\n",
    "sns.set_style(\"darkgrid\")\n",
    "plt.figure(figsize = (15,10))\n",
    "movies['year'].value_counts().sort_index().plot(kind = \"line\" , marker = \"o\" , color = \"g\" , mec = \"r\" , mfc = \"black\")\n",
    "plt.xticks(np.arange(1920,2022,4) , rotation = 90 , fontsize = 15)\n",
    "plt.xlabel(\"Year\" , fontsize = 20)\n",
    "plt.ylabel(\"Movies Released\" , fontsize = 20)\n",
    "plt.title(\"Trend Line - Movies Released Per Year\" , fontsize = 30)\n",
    "plt.show()\n",
    "\n",
    "\n",
    "#Movies released show a dip in latest years - maybe we collected data only up to a certain date\n",
    "#Certainly see more than 100 releases per year - movie business is booming\n"
   ]
  },
  {
   "cell_type": "code",
   "execution_count": null,
   "id": "d2dc0e29",
   "metadata": {},
   "outputs": [],
   "source": [
    "#Let us Check Average Ratings Per year -- this number is affected by number of votes.\n",
    "#Let us analyze both votes and ratings simultaneously for a better picture\n",
    "\n",
    "\n",
    "sns.set_style(\"darkgrid\")\n",
    "plt.figure(figsize = (15,10))\n",
    "movies.groupby(\"year\").mean().iloc[:,0].plot(kind = \"line\" , marker = \"o\" , color = \"g\" , mec = \"r\" , mfc = \"black\")\n",
    "\n",
    "plt.xticks(np.arange(1920,2022,2) , rotation = 90 , fontsize = 15)\n",
    "plt.xlabel(\"Year\", fontsize = 20)\n",
    "plt.title(\"Avg Ratings per Year\", fontsize = 30)\n",
    "plt.ylabel(\"Avg Rating\", fontsize = 20)\n",
    "plt.show()"
   ]
  },
  {
   "cell_type": "code",
   "execution_count": null,
   "id": "366e2533",
   "metadata": {},
   "outputs": [],
   "source": [
    "#Analyzing Avg Ratings and Number of Votes \n",
    "\n",
    "\n",
    "sns.set_style(\"darkgrid\")\n",
    "plt.figure(figsize = (15,10))\n",
    "movies.groupby(\"year\").mean().iloc[:,0].plot(kind = \"line\" , marker = \"x\" , color = \"r\" , mec = \"black\" , mfc = \"white\")\n",
    "movies.groupby(\"year\").mean().iloc[:,1].plot(kind = \"line\" , marker = \"o\" , color = \"g\" , mec = \"r\" , mfc = \"black\")\n",
    "plt.legend()\n",
    "plt.xticks(np.arange(1920,2022,2) , rotation = 90 , fontsize = 15)\n",
    "plt.xlabel(\"Year\",fontsize = 20)\n",
    "plt.title(\"Avg Ratings and Number of Votes per Year\",fontsize = 30)\n",
    "plt.ylabel(\"Avg Rating / Number of Votes(No Transformation)\",fontsize = 20)\n",
    "plt.show()\n",
    "\n",
    "\n",
    "#Average Ratings may be higher when the number of votes for that movie are lesser\n",
    "#We cannot see or decipher anything due to the range of values for number of vates is higher than ratings"
   ]
  },
  {
   "cell_type": "code",
   "execution_count": null,
   "id": "52388321",
   "metadata": {},
   "outputs": [],
   "source": [
    "#Analyzing Avg Ratings and Log Base2 Tranformed Number of Votes \n",
    "\n",
    "\n",
    "sns.set_style(\"darkgrid\")\n",
    "plt.figure(figsize = (15,10))\n",
    "movies.groupby(\"year\").mean().iloc[:,0].plot(kind = \"line\" , marker = \"x\" , color = \"r\" , mec = \"black\" , mfc = \"white\")\n",
    "movies.groupby(\"year\").mean().iloc[:,2].plot(kind = \"line\" , marker = \"o\" , color = \"g\" , mec = \"r\" , mfc = \"black\")\n",
    "plt.legend()\n",
    "plt.xticks(np.arange(1920,2022,2) , rotation = 90 , fontsize = 15)\n",
    "plt.xlabel(\"Year\",fontsize = 20)\n",
    "plt.title(\"Avg Ratings and Number of Votes per Year\",fontsize = 30)\n",
    "plt.ylabel(\"Avg Rating / Number of Votes(Base 2)\",fontsize = 20)\n",
    "plt.show()\n",
    "\n",
    "\n",
    "#Average Ratings may be higher when the number of votes for that movie are lesser\n"
   ]
  },
  {
   "cell_type": "code",
   "execution_count": null,
   "id": "27ec1724",
   "metadata": {},
   "outputs": [],
   "source": [
    "#Analyzing Avg Ratings and Log Base10 Tranformed Number of Votes \n",
    "\n",
    "\n",
    "sns.set_style(\"darkgrid\")\n",
    "plt.figure(figsize = (15,10))\n",
    "movies.groupby(\"year\").mean().iloc[:,0].plot(kind = \"line\" , marker = \"x\" , color = \"r\" , mec = \"black\" , mfc = \"white\")\n",
    "movies.groupby(\"year\").mean().iloc[:,3].plot(kind = \"line\" , marker = \"o\" , color = \"g\" , mec = \"r\" , mfc = \"black\")\n",
    "plt.legend()\n",
    "plt.xticks(np.arange(1920,2022,2) , rotation = 90 , fontsize = 15)\n",
    "plt.xlabel(\"Year\",fontsize = 20)\n",
    "plt.title(\"Avg Ratings and Number of Votes per Year\",fontsize = 30)\n",
    "plt.ylabel(\"Avg Rating / Number of Votes(Base 10)\",fontsize = 20)\n",
    "plt.show()\n",
    "\n",
    "\n",
    "#Average Ratings may be higher when the number of votes for that movie are lesser\n",
    "# We can see that trend stabilizing over the years - aver"
   ]
  },
  {
   "cell_type": "code",
   "execution_count": null,
   "id": "fafeb31c",
   "metadata": {},
   "outputs": [],
   "source": [
    "#Analyzing Avg Ratings and Log Base2 Tranformed Number of Votes \n",
    "sns.set_style(\"darkgrid\")\n",
    "plt.figure(figsize = (15,10))\n",
    "movies.groupby(\"year\").mean().iloc[:,0].plot(kind = \"line\" , marker = \"x\" , color = \"r\" , mec = \"black\" , mfc = \"white\")\n",
    "movies.groupby(\"year\").mean().iloc[:,4].plot(kind = \"line\" , marker = \"o\" , color = \"g\" , mec = \"r\" , mfc = \"black\")\n",
    "plt.legend()\n",
    "plt.xticks(np.arange(1920,2022,2) , rotation = 90 , fontsize = 15)\n",
    "plt.xlabel(\"Year\", fontsize = 20)\n",
    "plt.title(\"Avg Ratings and Number of Votes per Year\", fontsize = 30)\n",
    "plt.ylabel(\"Avg Rating and Number of Votes (Log10 Transformed)\", fontsize = 20)\n",
    "plt.show()"
   ]
  },
  {
   "cell_type": "code",
   "execution_count": null,
   "id": "3f86a1de",
   "metadata": {},
   "outputs": [],
   "source": [
    "#Let us check the distribution of num_votes feature\n",
    "\n",
    "\n",
    "sns.kdeplot(movies['num_votes'], color = \"r\")\n",
    "plt.show()\n",
    "#Highly Skewed feature - definitely needs transformation"
   ]
  },
  {
   "cell_type": "code",
   "execution_count": null,
   "id": "a488f1ed",
   "metadata": {},
   "outputs": [],
   "source": [
    "\n",
    "sns.histplot(movies['rating'] , kde = True , color = \"r\")\n",
    "plt.title(\"Ratings Distribution\")\n",
    "plt.show()\n",
    "\n",
    "#We can see counts of movies rated between 6-8 being the highest"
   ]
  },
  {
   "cell_type": "code",
   "execution_count": null,
   "id": "bb50f6e5",
   "metadata": {},
   "outputs": [],
   "source": [
    "#Let us check the frequency after bucketing the ratings\n",
    "pd.cut(movies['rating'],[0,2,4,6,8 , 10]).value_counts(normalize = True)*100\n"
   ]
  },
  {
   "cell_type": "code",
   "execution_count": null,
   "id": "9cba4f3d",
   "metadata": {},
   "outputs": [],
   "source": [
    "#Let us Analyze Ratings by plotting a bar chart\n",
    "pd.cut(movies['rating'],[0,2,4,6,8 , 10]).value_counts().plot(kind = \"bar\")\n",
    "plt.show()\n",
    "\n",
    "\n",
    "#More Counts of Ratings between 6-8 (~1750 such movies) or 50% of the data "
   ]
  },
  {
   "cell_type": "code",
   "execution_count": null,
   "id": "8364c565",
   "metadata": {},
   "outputs": [],
   "source": [
    "#Creating a Temporary Dataframe with rating >=7.5 and number of votes >=2000\n",
    "\n",
    "movies['rating_avg'] = pd.cut(movies['rating'],[0,2,4,6,8,10])\n",
    "temp = movies[(movies['rating']>=7.5)&movies['num_votes']>=2000].sort_values([\"year\",\"rating\"] , ascending = [False , False])\n",
    "\n",
    "\n"
   ]
  },
  {
   "cell_type": "code",
   "execution_count": null,
   "id": "4cf2253e",
   "metadata": {},
   "outputs": [],
   "source": [
    "temp.head()"
   ]
  },
  {
   "cell_type": "code",
   "execution_count": null,
   "id": "a78caa77",
   "metadata": {
    "scrolled": false
   },
   "outputs": [],
   "source": [
    "#Printing Top Movies by Year starting with recent years based on the temporary dataframe\n",
    "year_var = 1990\n",
    "for year in temp['year'].unique():\n",
    "    if year >= year_var:\n",
    "        print(f\"{year}: ,Top Movies By Year {temp[temp['year']==year]['title'].values}\")\n",
    "        print(\"\\n\")\n",
    "        print(\"--\"*20,\"\\n\\n\")"
   ]
  },
  {
   "cell_type": "code",
   "execution_count": null,
   "id": "0ad2d08f",
   "metadata": {},
   "outputs": [],
   "source": [
    "#Let us Check the distribution of Ratings in Recent Years\n",
    "sns.catplot(data = movies[movies['year']>2010] , x = \"year\" , y = \"rating\" , kind = \"box\" , height = 6 , aspect = 1.5)\n",
    "plt.xlabel(\"Year\",fontsize = 20)\n",
    "plt.ylabel(\"Ratings\",fontsize = 20)\n",
    "plt.title(\"Distribution of Ratings For Recent Years\",fontsize = 30)\n",
    "plt.show()"
   ]
  },
  {
   "cell_type": "code",
   "execution_count": null,
   "id": "51d53d1a",
   "metadata": {},
   "outputs": [],
   "source": [
    "#Let us Check the distribution of Ratings in Recent Years\n",
    "sns.catplot(data = movies[movies['year']>2010] , x = \"year\" , y = \"rating\" , kind = \"boxen\" , height = 6 , aspect = 1.5)\n",
    "plt.xlabel(\"Year\",fontsize = 20)\n",
    "plt.ylabel(\"Ratings\",fontsize = 20)\n",
    "plt.title(\"Distribution of Ratings For Recent Years\",fontsize = 30)\n",
    "plt.show()"
   ]
  },
  {
   "cell_type": "markdown",
   "id": "879b30d8",
   "metadata": {},
   "source": [
    "# Genre"
   ]
  },
  {
   "cell_type": "code",
   "execution_count": null,
   "id": "8b3816ba",
   "metadata": {},
   "outputs": [],
   "source": [
    "query = \"SELECT * FROM GENRE\"\n",
    "genre = pd.read_sql(query , conn)\n",
    "genre\n",
    "\n",
    "#We will have to split the Genres in order to analyze the counts"
   ]
  },
  {
   "cell_type": "code",
   "execution_count": null,
   "id": "c2d30d1f",
   "metadata": {},
   "outputs": [],
   "source": [
    "#Check Duplicates Values\n",
    "genre[genre.duplicated()]"
   ]
  },
  {
   "cell_type": "code",
   "execution_count": null,
   "id": "a6a63640",
   "metadata": {},
   "outputs": [],
   "source": [
    "#Merge Genre on Movies dataframe\n",
    "movies = movies.merge(m_genre[['MID',\"GID\"]] , on = \"MID\" , how = \"left\").merge(genre , on = \"GID\" , how = \"left\")"
   ]
  },
  {
   "cell_type": "code",
   "execution_count": null,
   "id": "3c76fb19",
   "metadata": {},
   "outputs": [],
   "source": [
    "#Split Genre Column\n",
    "movies = pd.concat((movies, movies['Name'].str.split(\", \", expand = True )) , axis = 1)\n",
    "movies.drop(\"Name\" , axis = 1 , inplace=True)"
   ]
  },
  {
   "cell_type": "code",
   "execution_count": null,
   "id": "6b7a691c",
   "metadata": {},
   "outputs": [],
   "source": [
    "#Rename Columns after pslitting\n",
    "movies = movies.rename(columns = { 0:\"Genre 1\",1:\"Genre 2\" , 2: \"Genre 3\"})\n"
   ]
  },
  {
   "cell_type": "code",
   "execution_count": null,
   "id": "cd4bc21e",
   "metadata": {},
   "outputs": [],
   "source": [
    "#Remove Spaces and Trim Genre\n",
    "movies['Genre 1'] = movies['Genre 1'].apply(lambda x : str(x).split(\" \")[0])\n",
    "movies['Genre 2'] = movies['Genre 2'].apply(lambda x : str(x).split(\" \")[0])\n",
    "movies['Genre 3'] = movies['Genre 3'].apply(lambda x : str(x).split(\" \")[0])"
   ]
  },
  {
   "cell_type": "code",
   "execution_count": null,
   "id": "2e0c6e4f",
   "metadata": {},
   "outputs": [],
   "source": [
    "#Replace Null with NA\n",
    "movies['Genre 1'].replace(\"Null\",\"NA\",inplace=True)\n",
    "movies['Genre 2'].replace(\"Null\",\"NA\",inplace=True)\n",
    "movies['Genre 3'].replace(\"Null\",\"NA\",inplace=True)"
   ]
  },
  {
   "cell_type": "code",
   "execution_count": null,
   "id": "b5754a28",
   "metadata": {},
   "outputs": [],
   "source": [
    "#Replace None Values with NA\n",
    "movies['Genre 1'].replace(\"None\",\"NA\",inplace=True)\n",
    "movies['Genre 2'].replace(\"None\",\"NA\",inplace=True)\n",
    "movies['Genre 3'].replace(\"None\",\"NA\",inplace=True)"
   ]
  },
  {
   "cell_type": "code",
   "execution_count": null,
   "id": "bc31cf87",
   "metadata": {},
   "outputs": [],
   "source": [
    "#Let us Analyze the Counts per Genre for different genres\n",
    "g = ['Genre 1',\"Genre 2\" , \"Genre 3\"]\n",
    "c = [\"r\",\"b\",\"g\"]\n",
    "\n",
    "for  color , genre in enumerate(g) :\n",
    "    plt.title(f\"\")\n",
    "    movies[genre].value_counts().plot(kind = \"bar\" , color =c[color])\n",
    "    plt.show()"
   ]
  },
  {
   "cell_type": "code",
   "execution_count": null,
   "id": "86c3a524",
   "metadata": {},
   "outputs": [],
   "source": [
    "#Analyze Average Ratings per Genre\n",
    "\n",
    "\n",
    "g = ['Genre 1',\"Genre 2\" , \"Genre 3\"]\n",
    "c = [\"r\",\"b\",\"g\"]\n",
    "\n",
    "for  color , genre in enumerate(g) :\n",
    "    movies.groupby(genre)['rating'].mean().sort_values(ascending=False).plot(kind = \"bar\" , color =c[color])\n",
    "    plt.show()"
   ]
  },
  {
   "cell_type": "code",
   "execution_count": null,
   "id": "a6033f44",
   "metadata": {},
   "outputs": [],
   "source": [
    "#Analyze Sum of Number of Votes per Genre\n",
    "\n",
    "\n",
    "g = ['Genre 1',\"Genre 2\" , \"Genre 3\"]\n",
    "c = [\"r\",\"b\",\"g\"]\n",
    "\n",
    "for  color , genre in enumerate(g) :\n",
    "    movies.groupby(genre)['num_votes'].sum().sort_values(ascending=False).plot(kind = \"bar\" , color =c[color])\n",
    "    plt.show()"
   ]
  },
  {
   "cell_type": "code",
   "execution_count": null,
   "id": "32f9ee01",
   "metadata": {},
   "outputs": [],
   "source": [
    "#Analyze Average Number of Votes per Genre\n",
    "\n",
    "\n",
    "g = ['Genre 1',\"Genre 2\" , \"Genre 3\"]\n",
    "c = [\"r\",\"b\",\"g\"]\n",
    "\n",
    "for  color , genre in enumerate(g) :\n",
    "    movies.groupby(genre)['num_votes'].mean().sort_values(ascending=False).plot(kind = \"bar\" , color =c[color])\n",
    "    plt.show()"
   ]
  },
  {
   "cell_type": "code",
   "execution_count": null,
   "id": "60e94c2a",
   "metadata": {},
   "outputs": [],
   "source": [
    "#Analyze Average Number of Votes (Log Transformed) per Genre\n",
    "\n",
    "\n",
    "g = ['Genre 1',\"Genre 2\" , \"Genre 3\"]\n",
    "c = [\"r\",\"b\",\"g\"]\n",
    "\n",
    "for  color , genre in enumerate(g) :\n",
    "    movies.groupby(genre)['num_votes_log2'].mean().sort_values(ascending=False).plot(kind = \"bar\" , color =c[color])\n",
    "    plt.show()"
   ]
  },
  {
   "cell_type": "code",
   "execution_count": null,
   "id": "ac8d38fe",
   "metadata": {},
   "outputs": [],
   "source": [
    "movies['num_votes'].median()\n",
    "var = 2000"
   ]
  },
  {
   "cell_type": "code",
   "execution_count": null,
   "id": "aa8ae7ec",
   "metadata": {
    "scrolled": false
   },
   "outputs": [],
   "source": [
    "for i in movies['Genre 1'].unique():\n",
    "    print(f\"Top Movies Per Genre: {i}\") \n",
    "    print(f\"{movies[(movies['Genre 1']==i)&(movies['rating']>=7.5)&(movies['num_votes']>=var)]['title'].values}\")\n",
    "    print(\"\\n\")\n",
    "    print(\"--\"*20,\"\\n\\n\")"
   ]
  },
  {
   "cell_type": "code",
   "execution_count": null,
   "id": "b439c4d1",
   "metadata": {
    "scrolled": false
   },
   "outputs": [],
   "source": [
    "for i in movies['Genre 2'].unique():\n",
    "    print(f\"Top Movies Per Genre {i}\") \n",
    "    print(f\"{movies[(movies['Genre 2']==i)&(movies['rating']>=7.5)]['title'].values}\")\n",
    "    print(\"--\"*20,\"\\n\\n\")"
   ]
  },
  {
   "cell_type": "code",
   "execution_count": null,
   "id": "b0eea5fa",
   "metadata": {},
   "outputs": [],
   "source": [
    "#Let us Create a heatmap to check the correlation of features\n",
    "corr = movies.corr()\n",
    "\n",
    "sns.heatmap(corr , annot=True , annot_kws= {'size':8})"
   ]
  },
  {
   "cell_type": "code",
   "execution_count": null,
   "id": "23215ee1",
   "metadata": {
    "scrolled": false
   },
   "outputs": [],
   "source": [
    "#Let us check the Number of movies released per Year segregated by Genre\n",
    "\n",
    "temp2 = movies.groupby([\"year\",\"Genre 1\"]).count()['title'].reset_index()\n",
    "year = 1980\n",
    "\n",
    "for y in temp2['year'].unique():\n",
    "    if y >= year:\n",
    "        df = temp2[temp2['year']==y].sort_values('title',ascending=False)\n",
    "        df.plot(x = \"Genre 1\", y = \"title\",kind = \"bar\" ,cmap = sns.set_palette('bright'))\n",
    "        plt.title(f\"Genres in Year: {y}\")\n",
    "        plt.show()"
   ]
  },
  {
   "cell_type": "code",
   "execution_count": null,
   "id": "038c9af3",
   "metadata": {},
   "outputs": [],
   "source": [
    "# Genre Distribution Over the Years\n",
    "genre_years = movies.groupby(['year', 'Genre 1']).size().unstack()\n",
    "genre_years.plot(kind='line', figsize=(15, 10))\n",
    "plt.xlabel('Year')\n",
    "plt.ylabel('Number of Movies')\n",
    "plt.title('Genre Distribution Over the Years')\n",
    "plt.legend(loc='center left', bbox_to_anchor=(1.0, 0.5))\n",
    "plt.show()"
   ]
  },
  {
   "cell_type": "markdown",
   "id": "c9f0f763",
   "metadata": {},
   "source": [
    "# Language\n",
    "\n"
   ]
  },
  {
   "cell_type": "code",
   "execution_count": null,
   "id": "4d550d3a",
   "metadata": {},
   "outputs": [],
   "source": [
    "#Relation between actor / producer , actor/director \n",
    "#producers/directors\n",
    "#Movies - shot in different countries and locations\n",
    "# genre distribution by years \n",
    "# Top 5 Genres"
   ]
  },
  {
   "cell_type": "code",
   "execution_count": null,
   "id": "44714bce",
   "metadata": {},
   "outputs": [],
   "source": [
    "lang_temp = movies.merge(m_language , how = \"left\" , on = 'MID').merge(lang , how = \"left\" , on = 'LAID')\n",
    "lang_temp.head()"
   ]
  },
  {
   "cell_type": "code",
   "execution_count": null,
   "id": "49237caa",
   "metadata": {},
   "outputs": [],
   "source": [
    "#Language Distribution\n",
    "language_counts = lang_temp['Name'].value_counts()\n",
    "language_counts.plot(kind='bar', figsize=(10, 6))\n",
    "plt.xlabel('Language')\n",
    "plt.ylabel('Number of Movies')\n",
    "plt.title('Distribution of Movies by Language')\n",
    "plt.show()"
   ]
  },
  {
   "cell_type": "code",
   "execution_count": null,
   "id": "b19e6a14",
   "metadata": {},
   "outputs": [],
   "source": [
    "# Average Ratings by Language\n",
    "language_avg_ratings = lang_temp.groupby('Name')['rating'].mean().sort_values(ascending=False)\n",
    "language_avg_ratings.plot(kind='bar', figsize=(10, 6))\n",
    "plt.xlabel('Language')\n",
    "plt.ylabel('Average Rating')\n",
    "plt.title('Average Ratings by Language')\n",
    "plt.show()"
   ]
  },
  {
   "cell_type": "code",
   "execution_count": null,
   "id": "90c3d65d",
   "metadata": {},
   "outputs": [],
   "source": [
    "# Language Diversity over the Years\n",
    "language_years = lang_temp.groupby(['year', 'Name']).size().unstack()\n",
    "language_years.plot(kind='line', figsize=(12, 6))\n",
    "plt.xlabel('Year')\n",
    "plt.ylabel('Number of Movies')\n",
    "plt.title('Language Diversity Over the Years')\n",
    "plt.legend(loc='center left', bbox_to_anchor=(1.0, 0.5))\n",
    "plt.show()"
   ]
  },
  {
   "cell_type": "markdown",
   "id": "d9f8ba9a",
   "metadata": {},
   "source": [
    "# Actor and Directors"
   ]
  },
  {
   "cell_type": "code",
   "execution_count": null,
   "id": "7e3c20a7",
   "metadata": {},
   "outputs": [],
   "source": [
    "name_map = dict(zip(person['PID'],person['Name']))\n",
    "gender_map = dict(zip(person['PID'],person['Gender']))"
   ]
  },
  {
   "cell_type": "code",
   "execution_count": null,
   "id": "a26ed8ed",
   "metadata": {},
   "outputs": [],
   "source": [
    "movies_dir = movies.merge(m_director , how = \"left\" , on = \"MID\").merge(m_language , how = \"left\" , on = 'MID').merge(lang , how = \"left\" , on = 'LAID')\n",
    "movies_dir['Director_Name'] = movies_dir['PID'].map(name_map)\n",
    "movies_dir['Director_Gender'] = movies_dir['PID'].map(gender_map)"
   ]
  },
  {
   "cell_type": "code",
   "execution_count": null,
   "id": "2c760125",
   "metadata": {},
   "outputs": [],
   "source": [
    "movies_dir"
   ]
  },
  {
   "cell_type": "code",
   "execution_count": null,
   "id": "9adb2862",
   "metadata": {},
   "outputs": [],
   "source": [
    "movies_dir.columns\n",
    "movies_dir = movies_dir[['MID', 'title', 'year', 'rating', 'num_votes', 'num_votes_log2',\n",
    "       'num_votes_log10', 'num_votes_sqrt', 'rating_avg',\n",
    "       'Genre 1', 'Name', 'Director_Name', 'Director_Gender']]\n",
    "movies_dir.rename(columns = {'Name':\"Language\"},inplace=True)"
   ]
  },
  {
   "cell_type": "code",
   "execution_count": null,
   "id": "de881003",
   "metadata": {},
   "outputs": [],
   "source": [
    "movies_dir"
   ]
  },
  {
   "cell_type": "code",
   "execution_count": null,
   "id": "e8f29186",
   "metadata": {},
   "outputs": [],
   "source": [
    "\n",
    "\n",
    "temp2 = movies_dir[['MID', 'title', 'year', 'rating', 'num_votes', 'num_votes_log2',\n",
    "       'num_votes_log10', 'num_votes_sqrt', 'rating_avg',\n",
    "       'Genre 1','Director_Name', 'Director_Gender']]"
   ]
  },
  {
   "cell_type": "code",
   "execution_count": null,
   "id": "2128e8f1",
   "metadata": {},
   "outputs": [],
   "source": [
    "temp2['Director_Name'].value_counts()[:25].plot(kind = \"bar\" , figsize = (15,8) , color = 'b')\n",
    "plt.xticks(fontsize = 20)\n",
    "plt.yticks(fontsize = 18)\n",
    "plt.xlabel('Director Name' , fontsize = 20)\n",
    "plt.ylabel('Number of Movies Directed' , fontsize = 20)\n",
    "plt.title('Top 25 Directors by Number of Movies Directed' , fontsize = 30)\n",
    "plt.show()"
   ]
  },
  {
   "cell_type": "code",
   "execution_count": null,
   "id": "20b40491",
   "metadata": {
    "scrolled": false
   },
   "outputs": [],
   "source": [
    "dirc = list(movies_dir['Director_Name'].value_counts()[:25].index)\n",
    "df2 = movies_dir[movies_dir['Director_Name'].isin(dirc)].groupby(['Director_Name','Genre 1']).size().unstack().fillna(0).astype(int)\n",
    "for col in df2.columns:\n",
    "    plt.title(f\"Number of Movies directed by top Directors in Genre: {col}\",fontsize = 20)\n",
    "    plt.xticks(fontsize = 20)\n",
    "    plt.yticks(fontsize = 18)\n",
    "    df2[col].sort_values(ascending=False).plot(kind = 'bar' , figsize = (15,8))\n",
    "    plt.show()\n",
    "    print(\"*\"*50)\n",
    "    print(\"\\n\\n\")"
   ]
  },
  {
   "cell_type": "code",
   "execution_count": null,
   "id": "56b954aa",
   "metadata": {},
   "outputs": [],
   "source": [
    "movies_dir['Director_Gender'].value_counts()\n",
    "# Many Genders are unknown and imputation would be hard so we will not be analyzing this feature"
   ]
  },
  {
   "cell_type": "markdown",
   "id": "a485b777",
   "metadata": {},
   "source": [
    "# Cast"
   ]
  },
  {
   "cell_type": "code",
   "execution_count": null,
   "id": "b54ee8b5",
   "metadata": {},
   "outputs": [],
   "source": [
    "m_cast['PID'] = m_cast['PID'].apply(lambda x : str(x).split(\" \")[1])\n",
    "m_cast = m_cast[['MID','PID']]"
   ]
  },
  {
   "cell_type": "code",
   "execution_count": null,
   "id": "6ec5f5e5",
   "metadata": {},
   "outputs": [],
   "source": [
    "movies_cast = movies_dir.merge(m_cast , on = 'MID' , how = 'left')\n",
    "movies_cast"
   ]
  },
  {
   "cell_type": "code",
   "execution_count": null,
   "id": "f03a67ec",
   "metadata": {},
   "outputs": [],
   "source": [
    "movies_cast[movies_cast.duplicated()]"
   ]
  },
  {
   "cell_type": "code",
   "execution_count": null,
   "id": "aecef9c2",
   "metadata": {},
   "outputs": [],
   "source": [
    "movies_cast['Cast_Name'] = movies_cast['PID'].map(name_map)\n",
    "movies_cast['Cast_Gender'] = movies_cast['PID'].map(gender_map)"
   ]
  },
  {
   "cell_type": "code",
   "execution_count": null,
   "id": "1c1af405",
   "metadata": {},
   "outputs": [],
   "source": [
    "sns.set_palette(\"plasma\")\n",
    "movies_cast['Cast_Name'].value_counts()[:50].plot(kind = 'bar',figsize = (15,10))\n",
    "plt.title(f\"Top Cast Member Counts\",fontsize = 30)\n",
    "plt.xticks(fontsize = 15)\n",
    "plt.yticks(fontsize = 18)\n",
    "plt.xlabel(\"Cast Members\",fontsize = 20)\n",
    "plt.ylabel(\"#Number of Movies\",fontsize = 20)\n",
    "plt.show()\n",
    "print(\"*\"*50)\n",
    "print(\"\\n\\n\")"
   ]
  },
  {
   "cell_type": "code",
   "execution_count": null,
   "id": "6b7780ac",
   "metadata": {
    "scrolled": true
   },
   "outputs": [],
   "source": [
    "for n,d in enumerate(movies_cast['Director_Name'].unique()[:-1]):\n",
    "    ser = movies_cast[(movies_cast['Director_Name']==d)]['Cast_Name'].value_counts()\n",
    "    try:\n",
    "        plt.title(f\"Favourite Cast Members for Director:{d}\",fontsize = 24)\n",
    "        plt.xlabel(\"Favourite Cast Members\" , fontsize = 12)\n",
    "        plt.ylabel(f\"# Of Movies Acted in for Director {d}\",fontsize = 12)\n",
    "        \n",
    "        ser[ser>=8].plot(kind = 'bar' , color = plt.cm.Reds(n),fill = np.random.choice([True,False]) , edgecolor = np.random.choice(['r','b','g']))\n",
    "        plt.show()\n",
    "        print(\">>*\"*20)\n",
    "        print(\"\\n\\n\")\n",
    "    except IndexError:\n",
    "        pass"
   ]
  },
  {
   "cell_type": "code",
   "execution_count": null,
   "id": "e36099e8",
   "metadata": {},
   "outputs": [],
   "source": [
    "plt.figure(dpi = 250)\n",
    "sns.set_palette(\"Set1\")\n",
    "movies_cast['Cast_Gender'].value_counts().plot(kind = 'pie' , autopct = \"%0.1f%%\" , explode =[0.2 , 0.6],shadow = True)\n",
    "plt.title('Pie Chart for Gender Distribution')\n",
    "\n",
    "plt.show()"
   ]
  },
  {
   "cell_type": "markdown",
   "id": "9d2f0170",
   "metadata": {},
   "source": [
    "# Directors and Producers"
   ]
  },
  {
   "cell_type": "code",
   "execution_count": null,
   "id": "95978a23",
   "metadata": {},
   "outputs": [],
   "source": [
    "m_producer['PID']"
   ]
  },
  {
   "cell_type": "code",
   "execution_count": null,
   "id": "13550e51",
   "metadata": {},
   "outputs": [],
   "source": [
    "m_producer['PID'] = m_producer['PID'].apply(lambda x : str(x).split(\" \")[1] if len(str(x).split(\" \"))>1 else x )"
   ]
  },
  {
   "cell_type": "code",
   "execution_count": null,
   "id": "f2051bcd",
   "metadata": {},
   "outputs": [],
   "source": [
    "movies_cast_prod = movies_cast.merge(m_producer[['MID','PID']],on = 'MID',how = 'left')\n",
    "movies_cast_prod['Producer_Name'] = movies_cast_prod['PID_y'].map(name_map)\n",
    "movies_cast_prod['Producer_Gender'] = movies_cast_prod['PID_y'].map(gender_map)"
   ]
  },
  {
   "cell_type": "code",
   "execution_count": null,
   "id": "0a58422f",
   "metadata": {},
   "outputs": [],
   "source": [
    "temp = movies_cast_prod.groupby(['Director_Name','Producer_Name']).count()['MID'].reset_index()\n"
   ]
  },
  {
   "cell_type": "code",
   "execution_count": null,
   "id": "808ca006",
   "metadata": {},
   "outputs": [],
   "source": [
    "temp"
   ]
  },
  {
   "cell_type": "code",
   "execution_count": null,
   "id": "f76bf9ac",
   "metadata": {},
   "outputs": [],
   "source": [
    "sns.set_palette('magma')\n",
    "plt.figure(figsize = (15,10))\n",
    "movies_cast_prod['Producer_Name'].value_counts()[:50].plot(kind ='bar' , edgecolor = 'purple',fill=False)\n",
    "plt.xticks(fontsize = 12)\n",
    "plt.yticks(fontsize = 12)\n",
    "plt.xlabel(\"Producer\")\n",
    "plt.ylabel(\"# Movies Produced\")\n",
    "plt.show()"
   ]
  },
  {
   "cell_type": "code",
   "execution_count": null,
   "id": "62ea5244",
   "metadata": {
    "scrolled": true
   },
   "outputs": [],
   "source": [
    "for n,d in enumerate(temp['Director_Name'].unique()):\n",
    "    temp[(temp['Director_Name']==d)].sort_values('MID',ascending=False)[:15].plot(kind = 'bar',x='Producer_Name',color = plt.cm.YlGn(n),fill = np.random.choice([True,False]) , edgecolor = np.random.choice(['r','b','g']))\n",
    "    plt.title(f\"Favourite Producer for Director:{d}\",fontsize = 20)\n",
    "    plt.xlabel(\"Favourite Producers\" , fontsize = 12)\n",
    "    plt.ylabel(f\"# Of Movies Produced\",fontsize = 9)\n",
    "    plt.show()\n",
    "    print(\">>*\"*20)\n",
    "    print(\"\\n\\n\")"
   ]
  },
  {
   "cell_type": "code",
   "execution_count": null,
   "id": "11df3c4f",
   "metadata": {},
   "outputs": [],
   "source": [
    "sns.set_palette('magma')\n",
    "plt.figure(figsize = (15,10))\n",
    "movies_cast_prod['Producer_Name'].value_counts()[:50].plot(kind ='bar' , edgecolor = 'g',fill=False)\n",
    "plt.xticks(fontsize = 12)\n",
    "plt.yticks(fontsize = 12)\n",
    "plt.xlabel(\"Producer\")\n",
    "plt.ylabel(\"# Movies Produced\")\n",
    "plt.show()"
   ]
  },
  {
   "cell_type": "markdown",
   "id": "9927cba6",
   "metadata": {},
   "source": [
    "# Movies Shot in Different Countries and Locations"
   ]
  },
  {
   "cell_type": "code",
   "execution_count": null,
   "id": "540c9381",
   "metadata": {},
   "outputs": [],
   "source": [
    "country_map = dict(zip(country['CID'],country['Name']))\n",
    "location_map = dict(zip(location['LID'],location['Name']))"
   ]
  },
  {
   "cell_type": "code",
   "execution_count": null,
   "id": "a2d9741e",
   "metadata": {},
   "outputs": [],
   "source": [
    "movies_country_loc = movies_dir.merge(m_country[['MID','CID']],how ='left' , on = 'MID').merge(m_location[['MID','LID']],how ='left',on='MID')\n",
    "movies_country_loc.head()"
   ]
  },
  {
   "cell_type": "code",
   "execution_count": null,
   "id": "4752511c",
   "metadata": {},
   "outputs": [],
   "source": [
    "movies_country_loc['Country_Name'] = movies_country_loc['CID'].map(country_map)\n",
    "movies_country_loc['Location_Name'] = movies_country_loc['LID'].map(location_map)"
   ]
  },
  {
   "cell_type": "code",
   "execution_count": null,
   "id": "1035ac68",
   "metadata": {},
   "outputs": [],
   "source": [
    "plt.figure(figsize = (15,8))\n",
    "movies_country_loc['Country_Name'].value_counts().plot(kind = 'bar', edgecolor ='black')\n",
    "plt.xticks(fontsize = 12)\n",
    "plt.yticks(fontsize = 12)\n",
    "plt.xlabel(\"Country\")\n",
    "plt.ylabel(\"# Number of Movies Shot\")\n",
    "plt.title(\"\")\n",
    "plt.show()"
   ]
  },
  {
   "cell_type": "code",
   "execution_count": null,
   "id": "d904dedd",
   "metadata": {},
   "outputs": [],
   "source": [
    "plt.figure(figsize = (15,8))\n",
    "movies_country_loc['Location_Name'].value_counts()[:50].plot(kind = 'bar', edgecolor ='black')\n",
    "plt.xticks(fontsize = 12)\n",
    "plt.yticks(fontsize = 12)\n",
    "plt.xlabel(\"Location\")\n",
    "plt.ylabel(\"# Number of Movies Shot\")\n",
    "plt.title(\"\")\n",
    "plt.show()"
   ]
  },
  {
   "cell_type": "code",
   "execution_count": null,
   "id": "2b34c022",
   "metadata": {},
   "outputs": [],
   "source": []
  }
 ],
 "metadata": {
  "kernelspec": {
   "display_name": "Python 3 (ipykernel)",
   "language": "python",
   "name": "python3"
  },
  "language_info": {
   "codemirror_mode": {
    "name": "ipython",
    "version": 3
   },
   "file_extension": ".py",
   "mimetype": "text/x-python",
   "name": "python",
   "nbconvert_exporter": "python",
   "pygments_lexer": "ipython3",
   "version": "3.10.9"
  }
 },
 "nbformat": 4,
 "nbformat_minor": 5
}
